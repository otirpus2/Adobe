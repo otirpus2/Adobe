{
 "cells": [
  {
   "cell_type": "markdown",
   "metadata": {},
   "source": [
    "<!DOCTYPE html>\n",
    "<html>\n",
    "<head>\n",
    "<title>How The Code Works</title>\n",
    "</head>\n",
    "<body>\n",
    "<h1>How The Code Works</h1>\n",
    "<p>This Python script that uses YOLO (You Only Look Once) model from the Ultralytics library to detect objects in images and then group the images based on the detected entities. Here's a breakdown of what the script does:</p>\n",
    "\n",
    "<ol>\n",
    "    <li>Importing necessary libraries and load the <code>YOLO</code> model using the 'yolov8n.pt' pretrained model.</li>\n",
    "    <li>Define a function <code>getFolder_Path</code> that retrieves the list of all files in the given <code>folder_path</code></li>\n",
    "    <li>Define a function <code>detect_Segments</code> that runs YOLO to detect objects in each image in the folder. It saves the results, counts the number of detected entities, groups the images, and writes the results to CSV files.</li>\n",
    "    <li>Define a function <code>count_Entities</code> that takes the YOLO detection results and counts the occurrences of each detected entity.</li>\n",
    "    <li>Define a function <code>group_images</code> that creates folders for each detected entity and moves the images to their respective entity folders.</li>\n",
    "    <li>The script calls the <code>detect_Segments</code> function in the <code>__main__</code> block to start the process of detecting entities in the images and grouping them accordingly.</li>\n",
    "</ol>\n",
    "<br>\n",
    "<p><strong>Additional Information:</strong></p>\n",
    "<ul>\n",
    "    <li>The data is saved in a CSV in the same folder as detected image in <code>./All_Images</code></li>\n",
    "    <li>The data is based of the results by the YOLO model and may <code>vary</code> from the original sometimes</li>\n",
    "</ul>\n",
    "</body>\n",
    "</html>\n"
   ]
  },
  {
   "cell_type": "code",
   "execution_count": null,
   "metadata": {},
   "outputs": [],
   "source": [
    "!pip install ultralytics"
   ]
  },
  {
   "cell_type": "code",
   "execution_count": 2,
   "metadata": {},
   "outputs": [
    {
     "name": "stderr",
     "output_type": "stream",
     "text": [
      "\n",
      "image 1/1 d:\\Adobe\\Aithon\\Aithon\\All_Images\\1.jpg: 384x640 4 persons, 1 couch, 185.8ms\n",
      "Speed: 5.0ms preprocess, 185.8ms inference, 4.0ms postprocess per image at shape (1, 3, 384, 640)\n",
      "\n"
     ]
    },
    {
     "name": "stdout",
     "output_type": "stream",
     "text": [
      "Data saved to ./output/problem2/1.csv\n"
     ]
    },
    {
     "name": "stderr",
     "output_type": "stream",
     "text": [
      "image 1/1 d:\\Adobe\\Aithon\\Aithon\\All_Images\\2.jpg: 448x640 3 persons, 1 bed, 240.6ms\n",
      "Speed: 4.0ms preprocess, 240.6ms inference, 5.1ms postprocess per image at shape (1, 3, 448, 640)\n",
      "\n"
     ]
    },
    {
     "name": "stdout",
     "output_type": "stream",
     "text": [
      "Data saved to ./output/problem2/2.csv\n"
     ]
    },
    {
     "name": "stderr",
     "output_type": "stream",
     "text": [
      "image 1/1 d:\\Adobe\\Aithon\\Aithon\\All_Images\\3.jpg: 448x640 3 persons, 186.2ms\n",
      "Speed: 9.5ms preprocess, 186.2ms inference, 3.0ms postprocess per image at shape (1, 3, 448, 640)\n",
      "\n"
     ]
    },
    {
     "name": "stdout",
     "output_type": "stream",
     "text": [
      "Data saved to ./output/problem2/3.csv\n"
     ]
    },
    {
     "name": "stderr",
     "output_type": "stream",
     "text": [
      "image 1/1 d:\\Adobe\\Aithon\\Aithon\\All_Images\\AdobeStock_112814949.jpeg: 448x640 1 spoon, 1 bowl, 1 sandwich, 233.3ms\n",
      "Speed: 10.5ms preprocess, 233.3ms inference, 3.1ms postprocess per image at shape (1, 3, 448, 640)\n",
      "\n"
     ]
    },
    {
     "name": "stdout",
     "output_type": "stream",
     "text": [
      "Data saved to ./output/problem2/AdobeStock_112814949.csv\n"
     ]
    },
    {
     "name": "stderr",
     "output_type": "stream",
     "text": [
      "image 1/1 d:\\Adobe\\Aithon\\Aithon\\All_Images\\AdobeStock_119085612.jpeg: 480x640 1 cup, 1 toothbrush, 343.1ms\n",
      "Speed: 5.0ms preprocess, 343.1ms inference, 3.0ms postprocess per image at shape (1, 3, 480, 640)\n",
      "\n"
     ]
    },
    {
     "name": "stdout",
     "output_type": "stream",
     "text": [
      "Data saved to ./output/problem2/AdobeStock_119085612.csv\n"
     ]
    },
    {
     "name": "stderr",
     "output_type": "stream",
     "text": [
      "image 1/1 d:\\Adobe\\Aithon\\Aithon\\All_Images\\AdobeStock_189740072.jpeg: 448x640 1 person, 201.4ms\n",
      "Speed: 9.7ms preprocess, 201.4ms inference, 2.0ms postprocess per image at shape (1, 3, 448, 640)\n",
      "\n"
     ]
    },
    {
     "name": "stdout",
     "output_type": "stream",
     "text": [
      "Data saved to ./output/problem2/AdobeStock_189740072.csv\n"
     ]
    },
    {
     "name": "stderr",
     "output_type": "stream",
     "text": [
      "image 1/1 d:\\Adobe\\Aithon\\Aithon\\All_Images\\AdobeStock_254640691.jpeg: 448x640 1 spoon, 4 bowls, 3 oranges, 1 dining table, 227.6ms\n",
      "Speed: 7.6ms preprocess, 227.6ms inference, 3.0ms postprocess per image at shape (1, 3, 448, 640)\n",
      "\n"
     ]
    },
    {
     "name": "stdout",
     "output_type": "stream",
     "text": [
      "Data saved to ./output/problem2/AdobeStock_254640691.csv\n"
     ]
    },
    {
     "name": "stderr",
     "output_type": "stream",
     "text": [
      "image 1/1 d:\\Adobe\\Aithon\\Aithon\\All_Images\\AdobeStock_255497590.jpeg: 352x640 1 bowl, 208.3ms\n",
      "Speed: 3.4ms preprocess, 208.3ms inference, 6.0ms postprocess per image at shape (1, 3, 352, 640)\n",
      "\n"
     ]
    },
    {
     "name": "stdout",
     "output_type": "stream",
     "text": [
      "Data saved to ./output/problem2/AdobeStock_255497590.csv\n"
     ]
    },
    {
     "name": "stderr",
     "output_type": "stream",
     "text": [
      "image 1/1 d:\\Adobe\\Aithon\\Aithon\\All_Images\\AdobeStock_257024669.jpeg: 448x640 1 suitcase, 326.0ms\n",
      "Speed: 14.6ms preprocess, 326.0ms inference, 3.0ms postprocess per image at shape (1, 3, 448, 640)\n",
      "\n"
     ]
    },
    {
     "name": "stdout",
     "output_type": "stream",
     "text": [
      "Data saved to ./output/problem2/AdobeStock_257024669.csv\n"
     ]
    },
    {
     "name": "stderr",
     "output_type": "stream",
     "text": [
      "image 1/1 d:\\Adobe\\Aithon\\Aithon\\All_Images\\AdobeStock_286178925.jpeg: 448x640 5 bowls, 6 donuts, 1 cake, 1 dining table, 232.1ms\n",
      "Speed: 5.6ms preprocess, 232.1ms inference, 2.0ms postprocess per image at shape (1, 3, 448, 640)\n",
      "\n"
     ]
    },
    {
     "name": "stdout",
     "output_type": "stream",
     "text": [
      "Data saved to ./output/problem2/AdobeStock_286178925.csv\n"
     ]
    },
    {
     "name": "stderr",
     "output_type": "stream",
     "text": [
      "image 1/1 d:\\Adobe\\Aithon\\Aithon\\All_Images\\AdobeStock_297274410.jpeg: 448x640 2 persons, 3 bowls, 1 dining table, 328.3ms\n",
      "Speed: 3.7ms preprocess, 328.3ms inference, 2.5ms postprocess per image at shape (1, 3, 448, 640)\n",
      "\n"
     ]
    },
    {
     "name": "stdout",
     "output_type": "stream",
     "text": [
      "Data saved to ./output/problem2/AdobeStock_297274410.csv\n"
     ]
    },
    {
     "name": "stderr",
     "output_type": "stream",
     "text": [
      "image 1/1 d:\\Adobe\\Aithon\\Aithon\\All_Images\\AdobeStock_315333860.jpeg: 448x640 3 persons, 1 wine glass, 4 cups, 1 spoon, 1 bowl, 4 pizzas, 1 dining table, 317.8ms\n",
      "Speed: 10.1ms preprocess, 317.8ms inference, 3.0ms postprocess per image at shape (1, 3, 448, 640)\n",
      "\n"
     ]
    },
    {
     "name": "stdout",
     "output_type": "stream",
     "text": [
      "Data saved to ./output/problem2/AdobeStock_315333860.csv\n"
     ]
    },
    {
     "name": "stderr",
     "output_type": "stream",
     "text": [
      "image 1/1 d:\\Adobe\\Aithon\\Aithon\\All_Images\\AdobeStock_321810820.jpeg: 384x640 5 persons, 1 skateboard, 238.5ms\n",
      "Speed: 5.1ms preprocess, 238.5ms inference, 2.8ms postprocess per image at shape (1, 3, 384, 640)\n",
      "\n"
     ]
    },
    {
     "name": "stdout",
     "output_type": "stream",
     "text": [
      "Data saved to ./output/problem2/AdobeStock_321810820.csv\n"
     ]
    },
    {
     "name": "stderr",
     "output_type": "stream",
     "text": [
      "image 1/1 d:\\Adobe\\Aithon\\Aithon\\All_Images\\AdobeStock_323628715.jpeg: 448x640 7 persons, 2 cups, 1 bowl, 4 pizzas, 1 dining table, 244.2ms\n",
      "Speed: 6.0ms preprocess, 244.2ms inference, 4.6ms postprocess per image at shape (1, 3, 448, 640)\n",
      "\n"
     ]
    },
    {
     "name": "stdout",
     "output_type": "stream",
     "text": [
      "Data saved to ./output/problem2/AdobeStock_323628715.csv\n"
     ]
    },
    {
     "name": "stderr",
     "output_type": "stream",
     "text": [
      "image 1/1 d:\\Adobe\\Aithon\\Aithon\\All_Images\\AdobeStock_349162891.jpeg: 608x640 1 sandwich, 321.2ms\n",
      "Speed: 7.0ms preprocess, 321.2ms inference, 4.7ms postprocess per image at shape (1, 3, 608, 640)\n",
      "\n"
     ]
    },
    {
     "name": "stdout",
     "output_type": "stream",
     "text": [
      "Data saved to ./output/problem2/AdobeStock_349162891.csv\n"
     ]
    },
    {
     "name": "stderr",
     "output_type": "stream",
     "text": [
      "image 1/1 d:\\Adobe\\Aithon\\Aithon\\All_Images\\AdobeStock_425653713.jpeg: 448x640 1 handbag, 1 bowl, 1 potted plant, 1 bed, 1 laptop, 1 keyboard, 209.8ms\n",
      "Speed: 3.5ms preprocess, 209.8ms inference, 3.6ms postprocess per image at shape (1, 3, 448, 640)\n",
      "\n"
     ]
    },
    {
     "name": "stdout",
     "output_type": "stream",
     "text": [
      "Data saved to ./output/problem2/AdobeStock_425653713.csv\n"
     ]
    },
    {
     "name": "stderr",
     "output_type": "stream",
     "text": [
      "image 1/1 d:\\Adobe\\Aithon\\Aithon\\All_Images\\AdobeStock_57849082.jpeg: 448x640 1 person, 2 pizzas, 1 dining table, 318.4ms\n",
      "Speed: 8.0ms preprocess, 318.4ms inference, 5.6ms postprocess per image at shape (1, 3, 448, 640)\n",
      "\n"
     ]
    },
    {
     "name": "stdout",
     "output_type": "stream",
     "text": [
      "Data saved to ./output/problem2/AdobeStock_57849082.csv\n"
     ]
    },
    {
     "name": "stderr",
     "output_type": "stream",
     "text": [
      "image 1/1 d:\\Adobe\\Aithon\\Aithon\\All_Images\\AdobeStock_58143201.jpeg: 480x640 (no detections), 382.9ms\n",
      "Speed: 9.6ms preprocess, 382.9ms inference, 2.5ms postprocess per image at shape (1, 3, 480, 640)\n",
      "\n"
     ]
    },
    {
     "name": "stdout",
     "output_type": "stream",
     "text": [
      "Data saved to ./output/problem2/AdobeStock_58143201.csv\n"
     ]
    },
    {
     "name": "stderr",
     "output_type": "stream",
     "text": [
      "image 1/1 d:\\Adobe\\Aithon\\Aithon\\All_Images\\AdobeStock_584637362.jpeg: 448x640 2 airplanes, 3 suitcases, 209.2ms\n",
      "Speed: 4.5ms preprocess, 209.2ms inference, 3.0ms postprocess per image at shape (1, 3, 448, 640)\n",
      "\n"
     ]
    },
    {
     "name": "stdout",
     "output_type": "stream",
     "text": [
      "Data saved to ./output/problem2/AdobeStock_584637362.csv\n"
     ]
    },
    {
     "name": "stderr",
     "output_type": "stream",
     "text": [
      "image 1/1 d:\\Adobe\\Aithon\\Aithon\\All_Images\\AdobeStock_594853635.jpeg: 224x640 8 sandwichs, 183.4ms\n",
      "Speed: 9.1ms preprocess, 183.4ms inference, 2.5ms postprocess per image at shape (1, 3, 224, 640)\n",
      "\n"
     ]
    },
    {
     "name": "stdout",
     "output_type": "stream",
     "text": [
      "Data saved to ./output/problem2/AdobeStock_594853635.csv\n"
     ]
    },
    {
     "name": "stderr",
     "output_type": "stream",
     "text": [
      "image 1/1 d:\\Adobe\\Aithon\\Aithon\\All_Images\\AdobeStock_608957878.jpeg: 448x640 2 persons, 2 toothbrushs, 308.3ms\n",
      "Speed: 17.7ms preprocess, 308.3ms inference, 6.0ms postprocess per image at shape (1, 3, 448, 640)\n",
      "\n"
     ]
    },
    {
     "name": "stdout",
     "output_type": "stream",
     "text": [
      "Data saved to ./output/problem2/AdobeStock_608957878.csv\n"
     ]
    },
    {
     "name": "stderr",
     "output_type": "stream",
     "text": [
      "image 1/1 d:\\Adobe\\Aithon\\Aithon\\All_Images\\AdobeStock_618914535.jpeg: 480x640 2 sandwichs, 346.8ms\n",
      "Speed: 16.0ms preprocess, 346.8ms inference, 3.0ms postprocess per image at shape (1, 3, 480, 640)\n",
      "\n"
     ]
    },
    {
     "name": "stdout",
     "output_type": "stream",
     "text": [
      "Data saved to ./output/problem2/AdobeStock_618914535.csv\n"
     ]
    },
    {
     "name": "stderr",
     "output_type": "stream",
     "text": [
      "image 1/1 d:\\Adobe\\Aithon\\Aithon\\All_Images\\AdobeStock_92669497.jpeg: 448x640 7 persons, 1 suitcase, 244.8ms\n",
      "Speed: 5.0ms preprocess, 244.8ms inference, 4.0ms postprocess per image at shape (1, 3, 448, 640)\n",
      "\n"
     ]
    },
    {
     "name": "stdout",
     "output_type": "stream",
     "text": [
      "Data saved to ./output/problem2/AdobeStock_92669497.csv\n"
     ]
    },
    {
     "name": "stderr",
     "output_type": "stream",
     "text": [
      "image 1/1 d:\\Adobe\\Aithon\\Aithon\\All_Images\\AdobeStock_96284524.jpeg: 448x640 12 donuts, 220.6ms\n",
      "Speed: 3.0ms preprocess, 220.6ms inference, 4.1ms postprocess per image at shape (1, 3, 448, 640)\n",
      "\n"
     ]
    },
    {
     "name": "stdout",
     "output_type": "stream",
     "text": [
      "Data saved to ./output/problem2/AdobeStock_96284524.csv\n"
     ]
    },
    {
     "name": "stderr",
     "output_type": "stream",
     "text": [
      "image 1/1 d:\\Adobe\\Aithon\\Aithon\\All_Images\\DL.jpeg: 384x640 1 bottle, 192.1ms\n",
      "Speed: 4.5ms preprocess, 192.1ms inference, 2.9ms postprocess per image at shape (1, 3, 384, 640)\n",
      "\n"
     ]
    },
    {
     "name": "stdout",
     "output_type": "stream",
     "text": [
      "Data saved to ./output/problem2/DL.csv\n"
     ]
    },
    {
     "name": "stderr",
     "output_type": "stream",
     "text": [
      "image 1/1 d:\\Adobe\\Aithon\\Aithon\\All_Images\\maxresdefault.jpeg: 384x640 3 persons, 192.0ms\n",
      "Speed: 6.0ms preprocess, 192.0ms inference, 4.5ms postprocess per image at shape (1, 3, 384, 640)\n",
      "\n"
     ]
    },
    {
     "name": "stdout",
     "output_type": "stream",
     "text": [
      "Data saved to ./output/problem2/maxresdefault.csv\n"
     ]
    },
    {
     "name": "stderr",
     "output_type": "stream",
     "text": [
      "image 1/1 d:\\Adobe\\Aithon\\Aithon\\All_Images\\Mist.jpeg: 448x640 1 tie, 288.0ms\n",
      "Speed: 8.0ms preprocess, 288.0ms inference, 3.0ms postprocess per image at shape (1, 3, 448, 640)\n"
     ]
    },
    {
     "name": "stdout",
     "output_type": "stream",
     "text": [
      "Data saved to ./output/problem2/Mist.csv\n"
     ]
    }
   ],
   "source": [
    "from ultralytics import YOLO  # pip install ultralytics\n",
    "import os\n",
    "import csv\n",
    "\n",
    "\n",
    "# Load YOLO model\n",
    "model = YOLO('yolov8n.pt')  # Using yolov8n pretrained model\n",
    "folder_path = './All_Images'  # Path to folder where images are stored\n",
    "\n",
    "#1\n",
    "def getFolder_Path(folder_path):\n",
    "    # Getting the path to all files in a list\n",
    "    file_list = []\n",
    "\n",
    "    for root, dirs, files in os.walk(folder_path):\n",
    "        for file_name in files:\n",
    "            file_list.append(file_name)\n",
    "    return file_list\n",
    "\n",
    "#2\n",
    "def detect_Segments():\n",
    "    # Using YOLO to detect objects in every image\n",
    "    files_in_folder = getFolder_Path(folder_path)\n",
    "    for i in files_in_folder:\n",
    "        path = f'./All_Images/{i}'\n",
    "        results = model.predict(path, save=False)\n",
    "        counts, total_objects = count_Entities(results)\n",
    "        write_to_CSV(i, counts, total_objects)\n",
    "\n",
    "    return counts , total_objects\n",
    "\n",
    "#3\n",
    "def count_Entities(results):\n",
    "    counts = {}\n",
    "    total_objects = 0\n",
    "\n",
    "    for result in results:\n",
    "        boxes = result.boxes.cpu().numpy()\n",
    "        total_objects += len(boxes)\n",
    "        for box in boxes:\n",
    "            cls = int(box.cls[0])\n",
    "            if cls not in counts:\n",
    "                counts[cls] = 1\n",
    "            else:\n",
    "                counts[cls] += 1\n",
    "\n",
    "    return counts, total_objects\n",
    "\n",
    "#4\n",
    "def write_to_CSV(img_name, counts, total_objects):\n",
    "    # Writing the data to a CSV file\n",
    "    name = img_name.split('.')[0]\n",
    "    csv_path = f\"./output/problem2/{name}.csv\"\n",
    "\n",
    "    with open(csv_path, mode='w', newline='') as csv_file:\n",
    "        writer = csv.writer(csv_file)\n",
    "        writer.writerow(['Entity', 'Count'])\n",
    "        for key in counts:\n",
    "            writer.writerow([model.names[key], counts[key]])\n",
    "        writer.writerow(['Total Objects', total_objects])\n",
    "\n",
    "    print(f\"Data saved to {csv_path}\")\n",
    "\n",
    "\n",
    "#6\n",
    "if __name__ == \"__main__\":\n",
    "    detect_Segments()"
   ]
  }
 ],
 "metadata": {
  "kernelspec": {
   "display_name": "Python 3",
   "language": "python",
   "name": "python3"
  },
  "language_info": {
   "codemirror_mode": {
    "name": "ipython",
    "version": 3
   },
   "file_extension": ".py",
   "mimetype": "text/x-python",
   "name": "python",
   "nbconvert_exporter": "python",
   "pygments_lexer": "ipython3",
   "version": "3.11.4"
  },
  "orig_nbformat": 4
 },
 "nbformat": 4,
 "nbformat_minor": 2
}
