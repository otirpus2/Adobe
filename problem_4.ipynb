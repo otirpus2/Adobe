{
 "cells": [
  {
   "cell_type": "markdown",
   "metadata": {},
   "source": [
    "<!DOCTYPE html>\n",
    "<html>\n",
    "<head>\n",
    "<title>Object Detection and Comparison</title>\n",
    "</head>\n",
    "<body>\n",
    "<h1>Object Detection and Comparison</h1>\n",
    "<p>This HTML page provides an overview of the Python script that uses the Ultralytics YOLO library for object detection and entity comparison.</p>\n",
    "\n",
    "<ol>\n",
    "    <li>Import the necessary libraries: The script starts by importing the Ultralytics YOLO library (<code>ultralytics.YOLO</code>), the operating system module (<code>os</code>), and the CSV module (<code>csv</code>).</li>\n",
    "    <li>Load YOLO Model: The YOLO model is loaded using the pretrained model file named <code>'yolov8n.pt'</code>.</li>\n",
    "    <li>Main Function: The <code>main()</code> function is defined as the entry point of the script. It processes subfolders within the main folder and performs comparisons.</li>\n",
    "    <li>Get Subfolders: The <code>get_subfolders(parent_folder)</code> function retrieves the paths of subfolders within a specified main folder.</li>\n",
    "    <li>Get Paths of Ideal and Other Images: The <code>get_ideal_images(folder_path)</code> function retrieves paths of ideal images from the \"ideal\" subfolder, and the <code>get_other_images(folder_path)</code> function retrieves paths of other images from the \"other\" subfolder.</li>\n",
    "    <li>Ideal Images Processing: The <code>ideal_images(selected_folder_path)</code> function processes ideal images, predicts entities using the YOLO model, and stores the results.</li>\n",
    "    <li>Counting Detected Entities and Coordinates: The <code>count_Entities(results)</code> function counts detected entities and extracts their coordinates from the YOLO results.</li>\n",
    "    <li>Comparing Entities: The <code>compare_entities(ideal_results, other_result)</code> function compares entities detected in ideal and other images, identifying missing and extra entities along with their coordinates.</li>\n",
    "    <li>Writing Data to CSV: The <code>perform_comparison_and_write_csv(ideal_results, other_path, selected_folder_path)</code> function performs entity comparison, writes results to a CSV file named after the other image, and includes information about missing and extra entities.</li>\n",
    "    <li>Calling Functions Inside <code>main()</code>: The main function iterates through subfolders, processes images, performs comparisons, and writes results to CSV files.</li>\n",
    "    <li>Calling Main Function: The main function is executed when the script is run as the main module.</li>\n",
    "</ol>\n",
    "\n",
    "<p>This Python script efficiently processes images, performs entity comparison, and writes comparison results to CSV files using the Ultralytics YOLO library.</p>\n",
    "</body>\n",
    "</html>\n"
   ]
  },
  {
   "cell_type": "code",
   "execution_count": null,
   "metadata": {},
   "outputs": [],
   "source": [
    "!pip install ultralytics"
   ]
  },
  {
   "cell_type": "code",
   "execution_count": 18,
   "metadata": {},
   "outputs": [
    {
     "name": "stdout",
     "output_type": "stream",
     "text": [
      "Processing folder: ./Ads_problem4\\Pizza\n"
     ]
    },
    {
     "name": "stderr",
     "output_type": "stream",
     "text": [
      "\n",
      "image 1/1 d:\\Adobe\\Aithon\\Aithon\\Ads_problem4\\Pizza\\ideal\\AdobeStock_323628715.jpeg: 448x640 7 persons, 2 cups, 1 bowl, 4 pizzas, 1 dining table, 239.7ms\n",
      "Speed: 6.6ms preprocess, 239.7ms inference, 3.1ms postprocess per image at shape (1, 3, 448, 640)\n",
      "Results saved to \u001b[1mruns\\detect\\predict14\u001b[0m\n",
      "\n",
      "image 1/1 d:\\Adobe\\Aithon\\Aithon\\Ads_problem4\\Pizza\\ideal\\AdobeStock_57849082.jpeg: 448x640 1 person, 2 pizzas, 1 dining table, 232.7ms\n",
      "Speed: 5.7ms preprocess, 232.7ms inference, 2.0ms postprocess per image at shape (1, 3, 448, 640)\n",
      "Results saved to \u001b[1mruns\\detect\\predict14\u001b[0m\n",
      "\n",
      "image 1/1 d:\\Adobe\\Aithon\\Aithon\\Ads_problem4\\Pizza\\other\\AdobeStock_286178925.jpeg: 448x640 5 bowls, 6 donuts, 1 cake, 1 dining table, 211.6ms\n",
      "Speed: 8.1ms preprocess, 211.6ms inference, 4.0ms postprocess per image at shape (1, 3, 448, 640)\n",
      "Results saved to \u001b[1mruns\\detect\\predict14\u001b[0m\n",
      "\n"
     ]
    },
    {
     "name": "stdout",
     "output_type": "stream",
     "text": [
      "Comparison results for 'AdobeStock_286178925' written to ./output/problem4/AdobeStock_286178925.csv\n"
     ]
    },
    {
     "name": "stderr",
     "output_type": "stream",
     "text": [
      "image 1/1 d:\\Adobe\\Aithon\\Aithon\\Ads_problem4\\Pizza\\other\\AdobeStock_315333860.jpeg: 448x640 3 persons, 1 wine glass, 4 cups, 1 spoon, 1 bowl, 4 pizzas, 1 dining table, 205.5ms\n",
      "Speed: 6.3ms preprocess, 205.5ms inference, 3.0ms postprocess per image at shape (1, 3, 448, 640)\n",
      "Results saved to \u001b[1mruns\\detect\\predict14\u001b[0m\n",
      "\n"
     ]
    },
    {
     "name": "stdout",
     "output_type": "stream",
     "text": [
      "Comparison results for 'AdobeStock_315333860' written to ./output/problem4/AdobeStock_315333860.csv\n"
     ]
    },
    {
     "name": "stderr",
     "output_type": "stream",
     "text": [
      "image 1/1 d:\\Adobe\\Aithon\\Aithon\\Ads_problem4\\Pizza\\other\\AdobeStock_602492718.jpeg: 320x640 2 persons, 6 pizzas, 289.5ms\n",
      "Speed: 4.6ms preprocess, 289.5ms inference, 3.0ms postprocess per image at shape (1, 3, 320, 640)\n",
      "Results saved to \u001b[1mruns\\detect\\predict14\u001b[0m\n",
      "\n"
     ]
    },
    {
     "name": "stdout",
     "output_type": "stream",
     "text": [
      "Comparison results for 'AdobeStock_602492718' written to ./output/problem4/AdobeStock_602492718.csv\n",
      "Processing folder: ./Ads_problem4\\Ramen\n"
     ]
    },
    {
     "name": "stderr",
     "output_type": "stream",
     "text": [
      "image 1/1 d:\\Adobe\\Aithon\\Aithon\\Ads_problem4\\Ramen\\ideal\\AdobeStock_254640691.jpeg: 448x640 1 spoon, 4 bowls, 3 oranges, 1 dining table, 240.4ms\n",
      "Speed: 9.6ms preprocess, 240.4ms inference, 2.0ms postprocess per image at shape (1, 3, 448, 640)\n",
      "Results saved to \u001b[1mruns\\detect\\predict14\u001b[0m\n",
      "\n",
      "image 1/1 d:\\Adobe\\Aithon\\Aithon\\Ads_problem4\\Ramen\\ideal\\AdobeStock_255497590.jpeg: 352x640 1 bowl, 179.2ms\n",
      "Speed: 4.2ms preprocess, 179.2ms inference, 3.0ms postprocess per image at shape (1, 3, 352, 640)\n",
      "Results saved to \u001b[1mruns\\detect\\predict14\u001b[0m\n",
      "\n",
      "image 1/1 d:\\Adobe\\Aithon\\Aithon\\Ads_problem4\\Ramen\\other\\AdobeStock_175017150.jpeg: 448x640 1 vase, 222.1ms\n",
      "Speed: 6.0ms preprocess, 222.1ms inference, 3.0ms postprocess per image at shape (1, 3, 448, 640)\n",
      "Results saved to \u001b[1mruns\\detect\\predict14\u001b[0m\n",
      "\n"
     ]
    },
    {
     "name": "stdout",
     "output_type": "stream",
     "text": [
      "Comparison results for 'AdobeStock_175017150' written to ./output/problem4/AdobeStock_175017150.csv\n"
     ]
    },
    {
     "name": "stderr",
     "output_type": "stream",
     "text": [
      "image 1/1 d:\\Adobe\\Aithon\\Aithon\\Ads_problem4\\Ramen\\other\\AdobeStock_288691583.jpeg: 448x640 1 bowl, 1 dining table, 230.7ms\n",
      "Speed: 6.5ms preprocess, 230.7ms inference, 5.2ms postprocess per image at shape (1, 3, 448, 640)\n",
      "Results saved to \u001b[1mruns\\detect\\predict14\u001b[0m\n",
      "\n"
     ]
    },
    {
     "name": "stdout",
     "output_type": "stream",
     "text": [
      "Comparison results for 'AdobeStock_288691583' written to ./output/problem4/AdobeStock_288691583.csv\n"
     ]
    },
    {
     "name": "stderr",
     "output_type": "stream",
     "text": [
      "image 1/1 d:\\Adobe\\Aithon\\Aithon\\Ads_problem4\\Ramen\\other\\AdobeStock_297274410.jpeg: 448x640 2 persons, 3 bowls, 1 dining table, 189.0ms\n",
      "Speed: 5.9ms preprocess, 189.0ms inference, 2.6ms postprocess per image at shape (1, 3, 448, 640)\n",
      "Results saved to \u001b[1mruns\\detect\\predict14\u001b[0m\n"
     ]
    },
    {
     "name": "stdout",
     "output_type": "stream",
     "text": [
      "Comparison results for 'AdobeStock_297274410' written to ./output/problem4/AdobeStock_297274410.csv\n"
     ]
    }
   ],
   "source": [
    "from ultralytics import YOLO #pip install YOLO\n",
    "import os\n",
    "import csv\n",
    "\n",
    "# Load YOLO model\n",
    "model = YOLO('yolov8n.pt')  # Using yolov8n pretrained model\n",
    "input_path = './Ads_problem4' # make sure the directory exist\n",
    "\n",
    "def main():\n",
    "    folders_to_process = get_subfolders(input_path)\n",
    "    \n",
    "    for selected_folder_path in folders_to_process:\n",
    "        print(f\"Processing folder: {selected_folder_path}\")\n",
    "        try:\n",
    "            ideal_results = ideal_images(selected_folder_path)\n",
    "            other_images_paths = get_other_images(selected_folder_path)\n",
    "            \n",
    "            for other_path in other_images_paths:\n",
    "                perform_comparison_and_write_csv(ideal_results, other_path, selected_folder_path)\n",
    "        \n",
    "        except Exception as e:\n",
    "            print(f\"An error occurred while processing folder '{selected_folder_path}': {str(e)}\")\n",
    "\n",
    "\n",
    "# Function to get subfolders within a directory\n",
    "def get_subfolders(parent_folder):\n",
    "    subfolders = []\n",
    "    for item in os.listdir(parent_folder):\n",
    "        item_path = os.path.join(parent_folder, item)\n",
    "        if os.path.isdir(item_path):\n",
    "            subfolders.append(item_path)\n",
    "    return subfolders\n",
    "\n",
    "\n",
    "# Function to get paths of ideal images\n",
    "def get_ideal_images(folder_path):\n",
    "    ideal_folder = os.path.join(folder_path, \"ideal\")\n",
    "    ideal_images = [os.path.join(ideal_folder, image) for image in os.listdir(ideal_folder)]\n",
    "    return ideal_images\n",
    "\n",
    "# Function to get paths of other images\n",
    "def get_other_images(folder_path):\n",
    "    other_folder = os.path.join(folder_path, \"other\")\n",
    "    other_images = [os.path.join(other_folder, image) for image in os.listdir(other_folder)]\n",
    "    return other_images\n",
    "\n",
    "\n",
    "\n",
    "\"\"\"\n",
    "Passing the path through functions for getting prediction data\n",
    "\"\"\"\n",
    "\n",
    "\n",
    "\n",
    "# Function to process ideal images and predict using the model\n",
    "def ideal_images(selected_folder_path):\n",
    "    all_results = []\n",
    "    # Get paths of images in \"ideal\" folder\n",
    "    ideal_images = get_ideal_images(selected_folder_path)\n",
    "    for path in ideal_images:\n",
    "        results = model.predict(path, save=True)  # Run YOLO prediction\n",
    "        all_results.append(results)\n",
    "    return all_results\n",
    "\n",
    "# Function to process other images and predict using the model\n",
    "\n",
    "\n",
    "\"\"\"\n",
    "Functions to count detected entities, cords and comparing them\n",
    "\"\"\"\n",
    "\n",
    "def count_Entities(results):\n",
    "    counts = {}\n",
    "    cords = []\n",
    "\n",
    "    for result in results:\n",
    "        boxes = result[0].boxes.cpu().numpy()  # Assuming 'pred' attribute contains boxes\n",
    "        cords.extend(result[0].boxes.xyxy.cpu().numpy())\n",
    "\n",
    "    for result in results:\n",
    "        boxes = result[0].boxes.cpu().numpy()\n",
    "        for box in boxes:\n",
    "            cls = int(box.cls[0])\n",
    "            if cls not in counts:\n",
    "                counts[cls] = 1\n",
    "            else:\n",
    "                counts[cls] += 1\n",
    "    \n",
    "    return counts, cords\n",
    "\n",
    "\n",
    "# Function to compare entities between ideal and other results\n",
    "def compare_entities(ideal_results, other_result):\n",
    "    ideal_counts, ideal_cords = count_Entities(ideal_results)\n",
    "    other_counts, other_cords = count_Entities(other_result)\n",
    "    \n",
    "    missing_entities = {}\n",
    "    extra_entities = {}\n",
    "    \n",
    "    # Find missing entities\n",
    "    for cls, count in ideal_counts.items():\n",
    "        if cls not in other_counts:\n",
    "            missing_entities[cls] = count\n",
    "    \n",
    "    # Find extra entities\n",
    "    for cls, count in other_counts.items():\n",
    "        if cls not in ideal_counts:\n",
    "            extra_entities[cls] = count\n",
    "    \n",
    "    missing_cords = {cls: ideal_cords[0] for cls in missing_entities}\n",
    "    extra_cords = {cls: other_cords[0] for cls in extra_entities}\n",
    "    \n",
    "    return missing_entities, extra_entities, missing_cords, extra_cords\n",
    "\n",
    "\n",
    "\n",
    "\"\"\"\n",
    "Writing the Data to CSV \n",
    "\"\"\"\n",
    "def perform_comparison_and_write_csv(ideal_results, other_path, selected_folder_path):\n",
    "    other_results = model.predict(other_path, save=True)\n",
    "    \n",
    "    # Compare entities between ideal and other images\n",
    "    missing_entities, extra_entities, missing_cords, extra_cords = compare_entities(ideal_results, other_results)\n",
    "    \n",
    "    # Write missing and extra entities to a CSV file with the same name as the other image\n",
    "    other_image_name = os.path.splitext(os.path.basename(other_path))[0]\n",
    "    name = selected_folder_path.split\n",
    "    csv_filename = f\"./output/problem4/{other_image_name}.csv\"\n",
    "    \n",
    "    with open(csv_filename, mode='w', newline='') as csv_file:\n",
    "        csv_writer = csv.writer(csv_file)\n",
    "        csv_writer.writerow([\"Entity\", \"Difference\", \"Meta\"])\n",
    "        \n",
    "        for cls, missing_count in missing_entities.items():\n",
    "            csv_writer.writerow([f\"Entity-class{cls}\", \"Missing\", missing_cords[cls]])\n",
    "        \n",
    "        for cls, extra_count in extra_entities.items():\n",
    "            csv_writer.writerow([f\"Entity-class{cls}\", \"Extra\", extra_cords[cls]])\n",
    "    \n",
    "    print(f\"Comparison results for '{other_image_name}' written to {csv_filename}\")\n",
    "\n",
    "\n",
    "\n",
    "#Calling the Function inside main\n",
    "if __name__ == \"__main__\":\n",
    "    main()\n"
   ]
  }
 ],
 "metadata": {
  "kernelspec": {
   "display_name": "Python 3",
   "language": "python",
   "name": "python3"
  },
  "language_info": {
   "codemirror_mode": {
    "name": "ipython",
    "version": 3
   },
   "file_extension": ".py",
   "mimetype": "text/x-python",
   "name": "python",
   "nbconvert_exporter": "python",
   "pygments_lexer": "ipython3",
   "version": "3.11.4"
  },
  "orig_nbformat": 4
 },
 "nbformat": 4,
 "nbformat_minor": 2
}
